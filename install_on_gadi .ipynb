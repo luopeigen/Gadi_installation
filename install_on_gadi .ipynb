{
 "cells": [
  {
   "cell_type": "code",
   "execution_count": null,
   "metadata": {
    "lines_to_next_cell": 0
   },
   "outputs": [],
   "source": []
  },
  {
   "cell_type": "code",
   "execution_count": null,
   "metadata": {},
   "outputs": [],
   "source": [
    "module purge\n",
    "module load openmpi/4.0.2 hdf5/1.10.5p python3/3.7.4 scons/3.1.1 petsc/3.12.2"
   ]
  },
  {
   "cell_type": "code",
   "execution_count": null,
   "metadata": {},
   "outputs": [],
   "source": [
    "export GROUP=jq14\n",
    "export USER=lp5029\n",
    "export INSTALL_NAME=UWGeodynamics_2.9.6"
   ]
  },
  {
   "cell_type": "code",
   "execution_count": null,
   "metadata": {},
   "outputs": [],
   "source": [
    "export CODES_PATH=/scratch/$GROUP/$USER/codes\n",
    "export UW_OPT_DIR=$CODES_PATH/opt\n",
    "export INSTALL_PATH=$CODES_PATH/$INSTALL_NAME"
   ]
  },
  {
   "cell_type": "code",
   "execution_count": null,
   "metadata": {},
   "outputs": [],
   "source": [
    "export SWIG_VERSION=3.0.12\n",
    "export SWIG_PATH=$UW_OPT_DIR/swig-$SWIG_VERSION\n",
    "export PATH=$SWIG_PATH/bin:$PATH"
   ]
  },
  {
   "cell_type": "code",
   "execution_count": null,
   "metadata": {},
   "outputs": [],
   "source": [
    "export OMPI_MCA_io=ompio"
   ]
  },
  {
   "cell_type": "code",
   "execution_count": null,
   "metadata": {},
   "outputs": [],
   "source": [
    "export CDIR=$PWD\n",
    "export LD_PRELOAD=/apps/openmpi-mofed4.7-pbs19.2/4.0.2/lib/libmpi_usempif08_GNU.so.40:/apps/openmpi-mofed4.7-pbs19.2/4.0.2/lib/libmpi_usempi_ignore_tkr_GNU.so.40:/apps/openmpi-mofed4.7-pbs19.2/4.0.2/lib/libmpi_cxx.so.40"
   ]
  },
  {
   "cell_type": "code",
   "execution_count": null,
   "metadata": {
    "lines_to_next_cell": 2
   },
   "outputs": [],
   "source": [
    "install_swig() {\n",
    "\ttmp_dir=$(mktemp -d -t ci-XXXXXXXXXX)\n",
    "\tcd $tmp_dir\n",
    "\twget http://prdownloads.sourceforge.net/swig/swig-$SWIG_VERSION.tar.gz\n",
    "\ttar -xvzf swig-$SWIG_VERSION.tar.gz\n",
    "\tcd swig-$SWIG_VERSION\n",
    "\t./configure --prefix=$SWIG_PATH\n",
    "\tmake\n",
    "\tmake install\n",
    "\trm $tmp_dir\n",
    "\tcd $CDIR\n",
    "}"
   ]
  },
  {
   "cell_type": "code",
   "execution_count": null,
   "metadata": {},
   "outputs": [],
   "source": [
    "install_petsc(){\n",
    "\tsource $INSTALL_PATH/bin/activate\n",
    "        export PETSC_CONFIGURE_OPTIONS=\"--with-debugging=0 --prefix=/usr/local \\\n",
    "                --COPTFLAGS='-O3' --CXXOPTFLAGS='-O3' --FOPTFLAGS='-O3' \\\n",
    "                --with-zlib=1                   \\\n",
    "                --with-hdf5=1                   \\\n",
    "                --download-mumps=1              \\\n",
    "                --download-parmetis=1           \\\n",
    "                --download-metis=1              \\\n",
    "                --download-superlu=1            \\\n",
    "                --download-hypre=1              \\\n",
    "                --download-scalapack=1          \\\n",
    "                --download-superlu_dist=1       \\\n",
    "                --useThreads=0                  \\\n",
    "                --download-superlu=1            \\\n",
    "                --with-shared-libraries         \\\n",
    "                --with-cxx-dialect=C++11        \\\n",
    "\t\t--prefix=/scratch/q97/codes/opt/petsc_3.12.3\\\n",
    "                --with-make-np=4\"\n",
    "\n",
    "       CC=mpicc CXX=mpicxx FC=mpif90 pip install petsc==3.12.3 -vvv\n",
    "}"
   ]
  },
  {
   "cell_type": "code",
   "execution_count": null,
   "metadata": {},
   "outputs": [],
   "source": [
    "install_python_dependencies(){\n",
    "\tsource $INSTALL_PATH/bin/activate\n",
    "\tpip3 install Cython\n",
    "\tpip3 install mpi4py\n",
    "        export HDF5_VERSION=1.10.5\n",
    "        CC=h5pcc HDF5_MPI=\"ON\" pip3 install --no-cache-dir --global-option=build_ext --global-option=\"-L/apps/hdf5/1.10.5p/lib/ompi3/\" --no-binary=h5py h5py"
   ]
  },
  {
   "cell_type": "code",
   "execution_count": null,
   "metadata": {},
   "outputs": [],
   "source": [
    "}"
   ]
  },
  {
   "cell_type": "code",
   "execution_count": null,
   "metadata": {},
   "outputs": [],
   "source": [
    "install_underworld(){\n",
    "\texport PETSC_DIR=/scratch/q97/codes/opt/petsc_3.12.3\n",
    "\tsource $INSTALL_PATH/bin/activate\n",
    "\ttmp_dir=$(mktemp -d -t ci-XXXXXXXXXX)\n",
    "\tcd $tmp_dir\n",
    "        git clone --branch v2.9.4b https://github.com/underworldcode/underworld2.git $tmp_dir\n",
    "        pip3 install .\n",
    "        rm -rf $tmp_dir\t\n",
    "\tcd $CDIR\n",
    "}"
   ]
  },
  {
   "cell_type": "code",
   "execution_count": null,
   "metadata": {},
   "outputs": [],
   "source": [
    "install_uwgeodynamics(){\n",
    "\tsource $INSTALL_PATH/bin/activate\n",
    "\ttmp_dir=$(mktemp -d -t ci-XXXXXXXXXX)\n",
    "\tcd $tmp_dir\n",
    "        git clone https://github.com/underworldcode/uwgeodynamics.git $tmp_dir\n",
    "        pip3 install .\n",
    "        rm -rf $tmp_dir\t\n",
    "\tcd $CDIR\n",
    "}"
   ]
  },
  {
   "cell_type": "code",
   "execution_count": null,
   "metadata": {},
   "outputs": [],
   "source": [
    "check_underworld_exists(){\n",
    "\tsource $INSTALL_PATH/bin/activate\n",
    "\treturn $(python3 -c \"import underworld\") \n",
    "}"
   ]
  },
  {
   "cell_type": "code",
   "execution_count": null,
   "metadata": {},
   "outputs": [],
   "source": [
    "check_uwgeodynamics_exists(){\n",
    "\tsource $INSTALL_PATH/bin/activate\n",
    "\treturn $(python3 -c \"import UWGeodynamics\") \n",
    "}"
   ]
  },
  {
   "cell_type": "code",
   "execution_count": null,
   "metadata": {},
   "outputs": [],
   "source": [
    "check_badlands_exists(){\n",
    "\tsource $INSTALL_PATH/bin/activate\n",
    "\treturn $(python3 -c \"import badlands\") \n",
    "}"
   ]
  },
  {
   "cell_type": "code",
   "execution_count": null,
   "metadata": {},
   "outputs": [],
   "source": [
    "install_badlands(){\n",
    "       source $INSTALL_PATH/bin/activate\n",
    "       pip3 install badlands\n",
    "}"
   ]
  },
  {
   "cell_type": "code",
   "execution_count": null,
   "metadata": {
    "lines_to_next_cell": 2
   },
   "outputs": [],
   "source": [
    "install_full_stack(){\n",
    "    if ! command -v swig 2>/dev/null; then\n",
    "           install_swig  \n",
    "    else\n",
    "           echo \"Found swig\"\n",
    "    fi\n",
    "    \n",
    "    install_python_dependencies\n",
    "    \n",
    "    if ! check_underworld_exists; then\n",
    "          install_underworld\n",
    "    fi\n",
    "    \n",
    "    if ! check_uwgeodynamics_exists; then\n",
    "          install_uwgeodynamics\n",
    "    fi\n",
    "    \n",
    "    if ! check_badlands_exists; then\n",
    "          install_badlands\n",
    "    fi\n",
    "}"
   ]
  },
  {
   "cell_type": "code",
   "execution_count": null,
   "metadata": {},
   "outputs": [],
   "source": [
    "if [ ! -d \"$INSTALL_PATH\" ]\n",
    "then\n",
    "    echo \"Environment not found, creating a new one\"\n",
    "    mkdir $INSTALL_PATH\n",
    "    python3 --version\n",
    "    python3 -m venv $INSTALL_PATH\n",
    "else\n",
    "    echo \"Found Environment\"\n",
    "    source $INSTALL_PATH/bin/activate\n",
    "fi"
   ]
  }
 ],
 "metadata": {
  "jupytext": {
   "cell_metadata_filter": "-all",
   "executable": "/bin/bash",
   "main_language": "bash",
   "notebook_metadata_filter": "-all",
   "text_representation": {
    "extension": ".sh",
    "format_name": "light"
   }
  }
 },
 "nbformat": 4,
 "nbformat_minor": 4
}
